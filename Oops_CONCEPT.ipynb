{
  "nbformat": 4,
  "nbformat_minor": 0,
  "metadata": {
    "colab": {
      "provenance": []
    },
    "kernelspec": {
      "name": "python3",
      "display_name": "Python 3"
    },
    "language_info": {
      "name": "python"
    }
  },
  "cells": [
    {
      "cell_type": "code",
      "execution_count": 1,
      "metadata": {
        "id": "2iZ5PAYx5Tpb"
      },
      "outputs": [],
      "source": [
        "import pandas as pd\n",
        "import numpy as np\n"
      ]
    },
    {
      "cell_type": "code",
      "source": [],
      "metadata": {
        "id": "rtrDmpszVdvO"
      },
      "execution_count": null,
      "outputs": []
    },
    {
      "cell_type": "code",
      "source": [
        "## OOPS IN PYTHON\n",
        "## TO MAP WITH REAL WORLD SCENERIOS WE STARTED USING OBJECT IN CODE THIS IS CALLED OBJECT ORIENTED PROGRAMMING\n",
        "## DUE TO FUNCTION IN PYTHON REDUDANCY DECREASE INCREASE REUSABILITY\n",
        "## BEFORE CREATING A OBJECT WE CREATE A CLASS\n",
        "## EXAMPLE OF OBJECT ARE LIST AND STRING\n",
        "## CLASS IS THE BLUEPRINT OF CREATING OBJECT\n"
      ],
      "metadata": {
        "id": "8zT43eOG5hck"
      },
      "execution_count": 10,
      "outputs": []
    },
    {
      "cell_type": "markdown",
      "source": [],
      "metadata": {
        "id": "yBt_byqAVb6t"
      }
    },
    {
      "cell_type": "markdown",
      "source": [],
      "metadata": {
        "id": "XFvRSngHVZab"
      }
    },
    {
      "cell_type": "code",
      "source": [
        "## creating a class\n",
        "class student:\n",
        "  name = \"rajan rai\"\n",
        "\n",
        "  ## creating a object:\n",
        "  s1 = student()\n",
        "  print(s1.name)"
      ],
      "metadata": {
        "colab": {
          "base_uri": "https://localhost:8080/"
        },
        "id": "RpnLEp5Q5hfO",
        "outputId": "7e9f431b-c428-4e37-e12b-e05160439099"
      },
      "execution_count": 14,
      "outputs": [
        {
          "output_type": "stream",
          "name": "stdout",
          "text": [
            "rajan rai\n"
          ]
        }
      ]
    },
    {
      "cell_type": "code",
      "source": [
        "## creating a class with name of car\n",
        "class Car:\n",
        "  color = \"blue\"\n",
        "  brand = \"mercedez\"\n",
        "  ## creating a object\n",
        "\n",
        "  car = Car()\n",
        "  print(car.color)\n",
        "  print(car.brand)\n"
      ],
      "metadata": {
        "colab": {
          "base_uri": "https://localhost:8080/"
        },
        "id": "h-xCHhDc5hhu",
        "outputId": "d0fe00d6-1183-4e9e-a553-0e6626261e93"
      },
      "execution_count": 18,
      "outputs": [
        {
          "output_type": "stream",
          "name": "stdout",
          "text": [
            "blue\n",
            "mercedez\n"
          ]
        }
      ]
    },
    {
      "cell_type": "code",
      "source": [
        "## Constructor is basically a init function, this function mainly used to execute while object creation.\n",
        "## THE SELF PARAMETER OF THE ClaSS , AND IS USED TO ACCESS VARIABLES THAT BELONG TO THE CLASS"
      ],
      "metadata": {
        "id": "U3cKM2s_5hkM"
      },
      "execution_count": null,
      "outputs": []
    },
    {
      "cell_type": "code",
      "source": [
        "class student:\n",
        "  ## parameterized constructors\n",
        "  def __init__(self,name,marks):\n",
        "    self.name = name\n",
        "    self.marks = marks\n",
        "    print(\"adding new students:\")\n",
        "\n",
        "s1 = student(\"karan\",65)\n",
        "print(s1.name,s1.marks)\n",
        "s2 = student(\"sachin\",78)\n",
        "print(s2.name , s2.marks)"
      ],
      "metadata": {
        "colab": {
          "base_uri": "https://localhost:8080/"
        },
        "id": "UlNL3tt25hmk",
        "outputId": "131700e9-897f-45d3-9563-8bc1c839c420"
      },
      "execution_count": 25,
      "outputs": [
        {
          "output_type": "stream",
          "name": "stdout",
          "text": [
            "adding new students:\n",
            "karan 65\n",
            "adding new students:\n",
            "sachin 78\n"
          ]
        }
      ]
    },
    {
      "cell_type": "code",
      "source": [
        "## THE DATA STORED INSIDE THE CLASS AND IN OBJECT IS CALED AS ATTRIBUTES\n",
        "## TWO TYPES OF ATTRIBUTES CLASS& INSTANCES ATTRIBUTES\n",
        "## SELF.OBJECT MEAN EACH OBJECT IS DIFFERENT FROM EACH OTHER THIS IS CALLED INSTANCES"
      ],
      "metadata": {
        "id": "bTkHPry-5hpE"
      },
      "execution_count": null,
      "outputs": []
    },
    {
      "cell_type": "code",
      "source": [
        "## METHOD ARE THE FUNCTIONS THAT BELONG TO OBJECT"
      ],
      "metadata": {
        "id": "FvNFKtma5hrN"
      },
      "execution_count": null,
      "outputs": []
    },
    {
      "cell_type": "code",
      "source": [
        "## create a class\n",
        "class student:\n",
        "  college_name = \"ABC COLLEGE\"\n",
        "  def __init__(self,name,marks):\n",
        "    self.name = name\n",
        "    self.marks = marks\n",
        "    print(\"adding new students\")\n",
        "    def welcome(self):\n",
        "      print(\"welcome student,\",self.name)\n",
        "\n",
        "    def get_marks(self):\n",
        "      return self.marks\n",
        "\n",
        "## create a object:\n",
        "\n",
        "s1 = student(\"karan\" , 76)\n",
        "print(s1.name , s1.marks)\n",
        "s2 = student(\"thapar\",56)\n",
        "print(s2.name , s2.marks)\n",
        "\n"
      ],
      "metadata": {
        "colab": {
          "base_uri": "https://localhost:8080/"
        },
        "id": "cjsOerBZ5htm",
        "outputId": "3f84fd00-ae4a-4791-8d6d-ef81b7428711"
      },
      "execution_count": 29,
      "outputs": [
        {
          "output_type": "stream",
          "name": "stdout",
          "text": [
            "adding new students\n",
            "karan 76\n",
            "adding new students\n",
            "thapar 56\n"
          ]
        }
      ]
    },
    {
      "cell_type": "code",
      "source": [
        "class student:\n",
        "  def __init__(self,name, marks,):\n",
        "    self.name = name\n",
        "    self.marks = marks\n",
        "\n",
        "  def get_avg(self):\n",
        "    sum = 0\n",
        "    for val in self.marks:\n",
        "      sum+=val\n",
        "      print(sum/3)\n",
        "\n",
        "s1 = student(\"bruce\",[76 , 87,65])\n",
        "s1.get_avg()\n",
        "\n",
        "s1.name = \"rajan\"\n",
        "s1.get_avg()\n"
      ],
      "metadata": {
        "colab": {
          "base_uri": "https://localhost:8080/"
        },
        "id": "4QIPAUwx5hvw",
        "outputId": "59e0736e-f4a5-4e68-d7e1-94e813ff7ab0"
      },
      "execution_count": 37,
      "outputs": [
        {
          "output_type": "stream",
          "name": "stdout",
          "text": [
            "25.333333333333332\n",
            "54.333333333333336\n",
            "76.0\n",
            "25.333333333333332\n",
            "54.333333333333336\n",
            "76.0\n"
          ]
        }
      ]
    },
    {
      "cell_type": "code",
      "source": [
        "## STATIC METHOD ARE METHOD THAT DO NOT USE SELF PARAMETER(WORK AT CLASS LEVEL, DECORATOR ALLOW US TO WRAP ANOTHER FUNCTION  IN ORDER TO EXTEND THE BEHAVIOUR OF THE WRAPPED FUNCTION\n",
        "##WITHOUT PERMANENTLY MODIFYING IT..\n",
        "\n",
        "class student:\n",
        "  @staticmethod # decorator(function)\n",
        "  def college():\n",
        "    print(\"ABC COLLEGE\")\n",
        "\n",
        "\n",
        "\n"
      ],
      "metadata": {
        "id": "rEuNUA5E5hxt"
      },
      "execution_count": null,
      "outputs": []
    },
    {
      "cell_type": "code",
      "source": [
        "@staticmethod\n",
        "def hello():\n",
        "  print(hello)"
      ],
      "metadata": {
        "id": "fRJ_-X8P5h1G"
      },
      "execution_count": 38,
      "outputs": []
    },
    {
      "cell_type": "code",
      "source": [
        "## ABSTRACTION HIDING THE IMPLEMENTATION DETAIL OF CLASS AND ONLY SHOWING THE ESSENTIAL FEATURES TO THE USERS\n",
        "## Encapsulation : wrapping the data and function into single unit"
      ],
      "metadata": {
        "id": "FjfIHXtlm3ep"
      },
      "execution_count": null,
      "outputs": []
    },
    {
      "cell_type": "code",
      "source": [
        "class car:\n",
        "  def __init__(self):\n",
        "    self.acc = False\n",
        "    self.brke = False\n",
        "    self.clutch = False\n",
        "  def start(self):\n",
        "    self.acc = True\n",
        "    self.brke = True\n",
        "    self.clutch = True\n",
        "    print(\"car started\")\n",
        "\n",
        "s1 = car()\n",
        "s1.start()"
      ],
      "metadata": {
        "colab": {
          "base_uri": "https://localhost:8080/"
        },
        "id": "2QBBF4Fwm3hR",
        "outputId": "d9264020-8b2c-411f-92e2-399f4b16918a"
      },
      "execution_count": 40,
      "outputs": [
        {
          "output_type": "stream",
          "name": "stdout",
          "text": [
            "car started\n"
          ]
        }
      ]
    },
    {
      "cell_type": "code",
      "source": [
        "class account:\n",
        "  def __init__(self,balance,account_no):\n",
        "    self.balance = balance\n",
        "    self.account_no = account_no\n",
        "\n",
        "  def debit(self,amount):\n",
        "    self.balance-=amount\n",
        "    print(\"the amount was debited:\",amount)\n",
        "\n",
        "  def credit(self,amount):\n",
        "    self.balance+=amount\n",
        "    print(\"the amount was credited:\",amount)\n",
        "\n",
        "  def amount_balance(self):\n",
        "    return self.balance\n",
        "    print(\"the balance amount are:\",self.balance)\n",
        "\n",
        "\n",
        "acc = account(10000,123456789)\n",
        "acc.debit(1000)\n",
        "acc.credit(1230)\n",
        "acc.amount_balance()\n",
        "\n",
        ""
      ],
      "metadata": {
        "colab": {
          "base_uri": "https://localhost:8080/"
        },
        "id": "QWW1Jzfgm3jp",
        "outputId": "1c2fdc3c-4ace-4888-80fa-3b7cfb1b8f47"
      },
      "execution_count": 47,
      "outputs": [
        {
          "output_type": "stream",
          "name": "stdout",
          "text": [
            "the amount was debited: 1000\n",
            "the amount was credited: 1230\n"
          ]
        },
        {
          "output_type": "execute_result",
          "data": {
            "text/plain": [
              "10230"
            ]
          },
          "metadata": {},
          "execution_count": 47
        }
      ]
    },
    {
      "cell_type": "code",
      "source": [],
      "metadata": {
        "id": "a13CVkUFm3m5"
      },
      "execution_count": null,
      "outputs": []
    }
  ]
}